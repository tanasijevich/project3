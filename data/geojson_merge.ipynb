{
 "cells": [
  {
   "cell_type": "code",
   "execution_count": 5,
   "id": "f4b8795b-9439-4bb7-9db6-9fa35c7dbade",
   "metadata": {},
   "outputs": [],
   "source": [
    "import pandas as pd\n",
    "import numpy as np\n",
    "import json"
   ]
  },
  {
   "cell_type": "code",
   "execution_count": 11,
   "id": "d7917a89-55b2-4ab0-9304-9a476b3aade4",
   "metadata": {},
   "outputs": [
    {
     "name": "stdout",
     "output_type": "stream",
     "text": [
      "  % Total    % Received % Xferd  Average Speed   Time    Time     Time  Current\n",
      "                                 Dload  Upload   Total   Spent    Left  Speed\n",
      "100 8432k  100 8432k    0     0  15.5M      0 --:--:-- --:--:-- --:--:-- 15.5M\n"
     ]
    }
   ],
   "source": [
    "!curl \"https://raw.githubusercontent.com/tanasijevich/project3/keith/data/chicago-community-areas.geojson\" > geo.json"
   ]
  },
  {
   "cell_type": "code",
   "execution_count": 13,
   "id": "f06b0567-4790-4286-8a7c-902b0f78dad4",
   "metadata": {},
   "outputs": [],
   "source": [
    "with open('geo.json', 'r') as file:\n",
    "    geojson = json.loads(file.read())"
   ]
  },
  {
   "cell_type": "code",
   "execution_count": 16,
   "id": "a56cd2d9-9333-493c-aa17-42d2a3b9dd48",
   "metadata": {},
   "outputs": [],
   "source": [
    "features = geojson['features']"
   ]
  },
  {
   "cell_type": "code",
   "execution_count": 49,
   "id": "8758c2b8-1b98-43d3-94d9-e5902a57791e",
   "metadata": {},
   "outputs": [],
   "source": [
    "from sqlalchemy import create_engine\n",
    "engine = create_engine('sqlite:///mydatabase.db')\n",
    "\n",
    "db = pd.read_sql_table('healthatlas',con=engine)\n",
    "\n",
    "dbdict = db.iloc[:,1:].to_dict('records')\n",
    "\n",
    "dbdict[0].keys()\n",
    "\n",
    "i_keys = ['LFA_2019', 'VRDIBR_2015_2019', 'VRDIAR_2015-2019', 'VRDTH_2015_2019', 'VRCAR_2015_2019', 'VRADR_2015_2019', 'POP_2015-2019', 'POP-I_2015-2019', 'POP-J_2015-2019', 'POP-Y_2015-2019', 'POP-O_2015-2019', 'POP-S_2015-2019', 'INC_2015-2019', 'POV_2015-2019', 'HDX_2015_2019']\n",
    "\n",
    "# new_properties\n",
    "for i in dbdict:\n",
    "    for j in range(len(features)):\n",
    "        if features[j]['properties']['community'].lower() == i[\"Name\"].lower():\n",
    "            for key in i_keys:\n",
    "                features[j]['properties'][key] = i[key]"
   ]
  },
  {
   "cell_type": "code",
   "execution_count": 51,
   "id": "4d85d54f-c1de-4e85-848d-13cac5cbf3c3",
   "metadata": {},
   "outputs": [],
   "source": [
    "geojson['features'] = features"
   ]
  },
  {
   "cell_type": "code",
   "execution_count": 57,
   "id": "8e2522de-31fa-4a93-bb95-f5438f965932",
   "metadata": {},
   "outputs": [],
   "source": [
    "with open('geo.json', 'w') as outfile:\n",
    "    json.dump(geojson, outfile)"
   ]
  },
  {
   "cell_type": "code",
   "execution_count": null,
   "id": "d8176835-ded9-4e12-8501-60acf0564a02",
   "metadata": {},
   "outputs": [],
   "source": []
  }
 ],
 "metadata": {
  "kernelspec": {
   "display_name": "Python 3 (ipykernel)",
   "language": "python",
   "name": "python3"
  },
  "language_info": {
   "codemirror_mode": {
    "name": "ipython",
    "version": 3
   },
   "file_extension": ".py",
   "mimetype": "text/x-python",
   "name": "python",
   "nbconvert_exporter": "python",
   "pygments_lexer": "ipython3",
   "version": "3.8.12"
  },
  "widgets": {
   "application/vnd.jupyter.widget-state+json": {
    "state": {},
    "version_major": 2,
    "version_minor": 0
   }
  }
 },
 "nbformat": 4,
 "nbformat_minor": 5
}
