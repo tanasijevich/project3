{
 "cells": [
  {
   "cell_type": "code",
   "execution_count": 1,
   "id": "f4b8795b-9439-4bb7-9db6-9fa35c7dbade",
   "metadata": {},
   "outputs": [],
   "source": [
    "import pandas as pd\n",
    "import numpy as np\n",
    "import json"
   ]
  },
  {
   "cell_type": "code",
   "execution_count": 2,
   "id": "d7917a89-55b2-4ab0-9304-9a476b3aade4",
   "metadata": {},
   "outputs": [
    {
     "name": "stdout",
     "output_type": "stream",
     "text": [
      "  % Total    % Received % Xferd  Average Speed   Time    Time     Time  Current\n",
      "                                 Dload  Upload   Total   Spent    Left  Speed\n",
      "100 8432k  100 8432k    0     0  7880k      0  0:00:01  0:00:01 --:--:-- 7887k\n"
     ]
    }
   ],
   "source": [
    "!curl \"https://raw.githubusercontent.com/tanasijevich/project3/keith/data/chicago-community-areas.geojson\" > geo.json"
   ]
  },
  {
   "cell_type": "code",
   "execution_count": 3,
   "id": "f06b0567-4790-4286-8a7c-902b0f78dad4",
   "metadata": {},
   "outputs": [],
   "source": [
    "with open('geo.json', 'r') as file:\n",
    "    geojson = json.loads(file.read())"
   ]
  },
  {
   "cell_type": "code",
   "execution_count": 4,
   "id": "a56cd2d9-9333-493c-aa17-42d2a3b9dd48",
   "metadata": {},
   "outputs": [],
   "source": [
    "features = geojson['features']"
   ]
  },
  {
   "cell_type": "code",
   "execution_count": 18,
   "id": "4ef376bf-cd75-46b9-acf9-565046a3651b",
   "metadata": {},
   "outputs": [],
   "source": [
    "from sqlalchemy import create_engine\n",
    "engine = create_engine('sqlite:///mydatabase.db')\n",
    "\n",
    "db = pd.read_sql_table('healthatlas',con=engine)\n",
    "\n",
    "dbdict = db.iloc[:,1:].to_dict('records')"
   ]
  },
  {
   "cell_type": "code",
   "execution_count": 23,
   "id": "4f0f8841-b189-4e2c-89e0-7c204d8364a0",
   "metadata": {},
   "outputs": [],
   "source": [
    "# dbdict[0].keys()"
   ]
  },
  {
   "cell_type": "code",
   "execution_count": 24,
   "id": "1230d98b-55e6-490b-b826-cc8f383edea7",
   "metadata": {
    "tags": []
   },
   "outputs": [
    {
     "ename": "SyntaxError",
     "evalue": "invalid syntax (<ipython-input-24-803d9cda4820>, line 4)",
     "output_type": "error",
     "traceback": [
      "\u001b[0;36m  File \u001b[0;32m\"<ipython-input-24-803d9cda4820>\"\u001b[0;36m, line \u001b[0;32m4\u001b[0m\n\u001b[0;31m    'VRDIAR_2015-2019', 'VRDIBR_2015_2019', 'VRCAR_2015_2019', 'VRADR_2015_2019', 'HCSHYTP_2016_2018',\\\u001b[0m\n\u001b[0m                     ^\u001b[0m\n\u001b[0;31mSyntaxError\u001b[0m\u001b[0;31m:\u001b[0m invalid syntax\n"
     ]
    }
   ],
   "source": [
    "dbdict[0].keys()\n",
    "\n",
    "i_keys = [HCSDIAP_2016-2018', \\\n",
    "          'VRDIAR_2015-2019', 'VRDIBR_2015_2019', 'VRCAR_2015_2019', 'VRADR_2015_2019', 'HCSHYTP_2016_2018',\\\n",
    "          'HCSOBP_2016_2018', 'VRCHDR_2015_2019', '\\nHCSPAP_2016_2018', 'HCSSP_2016_2018', 'HCSRCP_2016_2018',\\\n",
    "          'HCSSMKP_2016_2018', 'HCSBDP_2016_2018', 'HCSFVP_2016-2018', 'HCSFVAP_2016-2018', 'LFA_2019', 'PMC_2020',\\\n",
    "          'UNS_2015-2019', 'HDX_2015_2019', 'VRLE_2019', 'HCSNCP_2016-2018', 'VRBWP_2013-2017', 'HCSOHSP_2016-2018',\\\n",
    "          'Median_Household_Income', 'Poverty_Rate', 'Receiving_Food_Stamps', 'Public_Assistance_Income', \\\n",
    "          'High_School_Grad_Rate', 'College_Grad_Rate', 'PCT-F_2015-2019', 'Non_Hispanic_White', 'Non_Hispanic_Black',\\\n",
    "          'Asian_Pacific_Islander', 'Hispanic_or_Latino', 'Population_All', 'Population_Infants', 'Population_Juveniles', \\\n",
    "          'Population_Young_Adults', 'Population_Middle_Aged_Adults', 'Population_Seniors']\n",
    "\n",
    "# new_properties\n",
    "for i in dbdict:\n",
    "    for j in range(len(features)):\n",
    "        if features[j]['properties']['community'].lower() == i[\"Name\"].lower():\n",
    "            for key in i_keys:\n",
    "                features[j]['properties'][key] = i[key]"
   ]
  },
  {
   "cell_type": "code",
   "execution_count": 14,
   "id": "4d85d54f-c1de-4e85-848d-13cac5cbf3c3",
   "metadata": {},
   "outputs": [],
   "source": [
    "geojson['features'] = features"
   ]
  },
  {
   "cell_type": "code",
   "execution_count": 15,
   "id": "8e2522de-31fa-4a93-bb95-f5438f965932",
   "metadata": {},
   "outputs": [],
   "source": [
    "with open('geo.json', 'w') as outfile:\n",
    "    json.dump(geojson, outfile)"
   ]
  },
  {
   "cell_type": "code",
   "execution_count": null,
   "id": "d8176835-ded9-4e12-8501-60acf0564a02",
   "metadata": {},
   "outputs": [],
   "source": []
  }
 ],
 "metadata": {
  "kernelspec": {
   "display_name": "Python 3",
   "language": "python",
   "name": "python3"
  },
  "language_info": {
   "codemirror_mode": {
    "name": "ipython",
    "version": 3
   },
   "file_extension": ".py",
   "mimetype": "text/x-python",
   "name": "python",
   "nbconvert_exporter": "python",
   "pygments_lexer": "ipython3",
   "version": "3.8.8"
  },
  "widgets": {
   "application/vnd.jupyter.widget-state+json": {
    "state": {},
    "version_major": 2,
    "version_minor": 0
   }
  }
 },
 "nbformat": 4,
 "nbformat_minor": 5
}
